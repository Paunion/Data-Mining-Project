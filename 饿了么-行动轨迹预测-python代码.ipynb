{
 "cells": [
  {
   "cell_type": "markdown",
   "metadata": {},
   "source": [
    "# Classification"
   ]
  },
  {
   "cell_type": "markdown",
   "metadata": {},
   "source": [
    "PreFace:\n",
    "Dear Professor Zhang and TA Mr.Yin:\n",
    "In xgboost, it is not only time-consuming but also impossible to check the ratio of completion while finetuning. Due to these two inconveniences, I do not use gridsearchcv. Instead, I choose to test each parameter in each value separately, so that I can better control the process."
   ]
  },
  {
   "cell_type": "code",
   "execution_count": 1,
   "metadata": {},
   "outputs": [],
   "source": [
    "import pandas as pd\n",
    "import numpy as np\n",
    "import sys \n",
    "import statsmodels as sm\n",
    "import sklearn\n",
    "import scipy as sp\n",
    "%matplotlib inline \n",
    "import matplotlib.pyplot as plt\n",
    "import math\n",
    "import warnings;\n",
    "warnings.filterwarnings('ignore')\n",
    "import xgboost as xgb\n",
    "from sklearn.linear_model import LinearRegression as LinReg\n",
    "import xgboost as xgb\n",
    "from sklearn.model_selection import train_test_split as tr_te_split\n",
    "from sklearn.linear_model import LogisticRegression as LogitReg\n",
    "from sklearn.model_selection import GridSearchCV"
   ]
  },
  {
   "cell_type": "markdown",
   "metadata": {},
   "source": [
    "# (a)Data Pre-processing"
   ]
  },
  {
   "cell_type": "code",
   "execution_count": 8,
   "metadata": {},
   "outputs": [],
   "source": [
    "df1=pd.read_csv('dataframe_train.csv')\n",
    "df2=pd.read_csv('dataframe_test.csv')"
   ]
  },
  {
   "cell_type": "markdown",
   "metadata": {},
   "source": [
    "From my gut feelings, I pick up features as follow: 'source_type','grid_distance','target_lng','target_lat','urgency','source_lat','source_lng'"
   ]
  },
  {
   "cell_type": "code",
   "execution_count": 9,
   "metadata": {},
   "outputs": [],
   "source": [
    "#to transform the ['action_type'] in test data into binary:\n",
    "def dummy(x):\n",
    "    if x == 'PICKUP':\n",
    "        return 0\n",
    "    else:\n",
    "        return 1"
   ]
  },
  {
   "cell_type": "code",
   "execution_count": 10,
   "metadata": {},
   "outputs": [],
   "source": [
    "from sklearn.metrics import confusion_matrix\n",
    "def F(x,y):#(y_train,y_pred)\n",
    "    tn,fp, fn, tp = confusion_matrix(x,y).ravel()\n",
    "    return(2*tp/(2*tp+fp+fn))"
   ]
  },
  {
   "cell_type": "markdown",
   "metadata": {},
   "source": [
    "Pick up several relevant variables."
   ]
  },
  {
   "cell_type": "markdown",
   "metadata": {},
   "source": [
    "Our aim is to forecast 25000 rows of data with 500,000 rows of data.\n",
    "Therefore, I built a train-test split in the ratio of 484136:25468, which approximates the final ratio."
   ]
  },
  {
   "cell_type": "code",
   "execution_count": 11,
   "metadata": {},
   "outputs": [],
   "source": [
    "df3=df1[['source_type','grid_distance','target_lng','target_lat','urgency','source_lng','source_lat','action_type']]\n",
    "df3=pd.get_dummies(df3,columns=['source_type'])\n",
    "df3['action_type']=df3['action_type'].apply(lambda x: dummy(x))\n",
    "df_train=df3[0:484136]\n",
    "df_test=df3[484136:]"
   ]
  },
  {
   "cell_type": "markdown",
   "metadata": {},
   "source": [
    "Get rid of some of the ourliers."
   ]
  },
  {
   "cell_type": "code",
   "execution_count": 12,
   "metadata": {},
   "outputs": [],
   "source": [
    "Q3=df1.urgency.quantile(0.75)\n",
    "Q1=df1.urgency.quantile(0.25)\n",
    "IQR=Q3-Q1\n",
    "lower_limit=Q1-1.5*IQR\n",
    "upper_limit=Q3+1.5*IQR"
   ]
  },
  {
   "cell_type": "code",
   "execution_count": 13,
   "metadata": {},
   "outputs": [],
   "source": [
    "X_train=df_train[(df_train['urgency']>=lower_limit)&(df_train['urgency']<=upper_limit)].drop(columns=['action_type'])\n",
    "y_train=df_train[(df_train['urgency']>=lower_limit)&(df_train['urgency']<=upper_limit)]['action_type'].ravel()\n",
    "X_test=df_test.drop(columns=['action_type'])\n",
    "y_test=df_test['action_type'].ravel()"
   ]
  },
  {
   "cell_type": "markdown",
   "metadata": {},
   "source": [
    "# (b)Baseline Model(Logistic Regression)"
   ]
  },
  {
   "cell_type": "code",
   "execution_count": 35,
   "metadata": {},
   "outputs": [],
   "source": [
    "#LR = LogitReg().fit(X_train,y_train)"
   ]
  },
  {
   "cell_type": "code",
   "execution_count": 36,
   "metadata": {},
   "outputs": [
    {
     "name": "stdout",
     "output_type": "stream",
     "text": [
      "The best alpha parameter is {'C': 0.93}\n",
      "\n",
      "\n",
      "The corresponding R-squared is 0.7352.\n"
     ]
    }
   ],
   "source": [
    "param_grid_2 = [{'C':np.arange(0.01,1,0.01),\n",
    "               }]#LogisticRegression里面的range用C来表示.线性回归里面用alpha来表示\n",
    "Ridge_LinReg = LogitReg('l2',solver='liblinear',max_iter=1000)\n",
    "grid_2 = GridSearchCV(Ridge_LinReg, param_grid_2, cv=5)\n",
    "grid_2.fit(X_train,y_train.ravel())\n",
    "print(\"The best alpha parameter is\",grid_2.best_params_) \n",
    "print('\\n') \n",
    "print(\"The corresponding R-squared is %0.4f.\" % grid_2.best_score_) "
   ]
  },
  {
   "cell_type": "code",
   "execution_count": 37,
   "metadata": {},
   "outputs": [
    {
     "name": "stdout",
     "output_type": "stream",
     "text": [
      "The best alpha parameter is {'C': 0.1}\n",
      "\n",
      "\n",
      "The corresponding R-squared is 0.7350.\n"
     ]
    }
   ],
   "source": [
    "param_grid_2 = [{'C':np.arange(0.1,1,0.1),\n",
    "               }]#LogisticRegression里面的range用C来表示.线性回归里面用alpha来表示\n",
    "Ridge_LinReg = LogitReg('l2',solver='newton-cg',max_iter=1000)\n",
    "grid_2 = GridSearchCV(Ridge_LinReg, param_grid_2, cv=5)\n",
    "grid_2.fit(X_train,y_train.ravel())\n",
    "print(\"The best alpha parameter is\",grid_2.best_params_) \n",
    "print('\\n') \n",
    "print(\"The corresponding R-squared is %0.4f.\" % grid_2.best_score_) "
   ]
  },
  {
   "cell_type": "code",
   "execution_count": 38,
   "metadata": {},
   "outputs": [],
   "source": [
    "LR=LogitReg(penalty='l2', C=0.93, solver='liblinear').fit(X_train,y_train)\n",
    "prob_pred = LR.predict_proba(X_test)\n",
    "t = 0.5\n",
    "y_pred = np.array(list(map(lambda x: int(x>=t), prob_pred[:, 1])))"
   ]
  },
  {
   "cell_type": "code",
   "execution_count": 39,
   "metadata": {},
   "outputs": [
    {
     "data": {
      "text/plain": [
       "0.727109234498397"
      ]
     },
     "execution_count": 39,
     "metadata": {},
     "output_type": "execute_result"
    }
   ],
   "source": [
    "F(y_test,y_pred)"
   ]
  },
  {
   "cell_type": "markdown",
   "metadata": {},
   "source": [
    "Now try the model in kaggle."
   ]
  },
  {
   "cell_type": "code",
   "execution_count": 5,
   "metadata": {},
   "outputs": [],
   "source": [
    "df1=pd.read_csv('dataframe_train.csv')\n",
    "df2=pd.read_csv('dataframe_test.csv')\n",
    "df_LR=df1[['source_type','grid_distance','target_lng','target_lat','urgency','source_lng','source_lat','action_type']]\n",
    "df_LR=pd.get_dummies(df_LR,columns=['source_type'])\n",
    "df_LR['action_type'].apply(lambda x: dummy(x))\n",
    "X_test_final=df2[['source_type','grid_distance','target_lng','target_lat','urgency','source_lng','source_lat']]\n",
    "X_test_final=pd.get_dummies(X_test_final,columns=['source_type'])\n",
    "X_train_final=df_LR.drop(columns=['action_type'])\n",
    "y_train_final=df_LR['action_type'].apply(lambda x: dummy(x))"
   ]
  },
  {
   "cell_type": "code",
   "execution_count": 41,
   "metadata": {},
   "outputs": [],
   "source": [
    "LR_final=LogitReg(penalty='l2', C=0.93, solver='liblinear').fit(X_train_final,y_train_final)\n",
    "prob_pred = LR.predict_proba(X_test_final)\n",
    "t = 0.5\n",
    "y_pred = np.array(list(map(lambda x: int(x>=t), prob_pred[:, 1])))"
   ]
  },
  {
   "cell_type": "code",
   "execution_count": 24,
   "metadata": {},
   "outputs": [],
   "source": [
    "df_classification = pd.read_csv(\"classification1.csv\",index_col = 0)\n",
    "df_classification[\"action_type_DELIVERY\"] = y_pred\n",
    "df_classification.to_csv(\"classification_LR.csv\")"
   ]
  },
  {
   "cell_type": "markdown",
   "metadata": {},
   "source": [
    "And the F1-score on kaggle is: 0.71589"
   ]
  },
  {
   "cell_type": "markdown",
   "metadata": {},
   "source": [
    "# (c)Gradient Boosting Tree (Xgboost)"
   ]
  },
  {
   "cell_type": "code",
   "execution_count": 13,
   "metadata": {},
   "outputs": [],
   "source": [
    "data_train = xgb.DMatrix(data=X_train,label= y_train)\n",
    "#data_test = xgb.DMatrix(data=X_test,label= y_test)"
   ]
  },
  {
   "cell_type": "code",
   "execution_count": 20,
   "metadata": {},
   "outputs": [],
   "source": [
    "kuaidi_xgbt = xgb.XGBClassifier(objective ='binary:logistic',\n",
    "                                eval_metric='logloss',\n",
    "                                colsample_bynode=0.9,\n",
    "                                learning_rate = 0.3,gamma = 0.01,\n",
    "                                max_depth = 18,\n",
    "                                n_estimators = 500,\n",
    "                                use_label_encoder=False)"
   ]
  },
  {
   "cell_type": "code",
   "execution_count": 21,
   "metadata": {},
   "outputs": [],
   "source": [
    "from sklearn.metrics import confusion_matrix\n",
    "kuaidi_xgbt.fit(X_train,y_train)\n",
    "y_pred = kuaidi_xgbt.predict(X_test)"
   ]
  },
  {
   "cell_type": "code",
   "execution_count": 16,
   "metadata": {},
   "outputs": [
    {
     "data": {
      "text/plain": [
       "0.9390819722888768"
      ]
     },
     "execution_count": 16,
     "metadata": {},
     "output_type": "execute_result"
    }
   ],
   "source": [
    "#Result of Benchmark parameters 0.8 0.1 0.001 20 200\n",
    "F(y_test,y_pred)"
   ]
  },
  {
   "cell_type": "markdown",
   "metadata": {},
   "source": [
    "Testing max_depth"
   ]
  },
  {
   "cell_type": "code",
   "execution_count": 56,
   "metadata": {
    "collapsed": true,
    "jupyter": {
     "outputs_hidden": true
    }
   },
   "outputs": [
    {
     "data": {
      "text/plain": [
       "0.9380112424888545"
      ]
     },
     "execution_count": 56,
     "metadata": {},
     "output_type": "execute_result"
    }
   ],
   "source": [
    "F(y_test,y_pred) #max_depth=21"
   ]
  },
  {
   "cell_type": "code",
   "execution_count": 28,
   "metadata": {
    "collapsed": true,
    "jupyter": {
     "outputs_hidden": true
    }
   },
   "outputs": [
    {
     "data": {
      "text/plain": [
       "0.9390819722888768"
      ]
     },
     "execution_count": 28,
     "metadata": {},
     "output_type": "execute_result"
    }
   ],
   "source": [
    "F(y_test,y_pred) #max_depth=20"
   ]
  },
  {
   "cell_type": "code",
   "execution_count": 31,
   "metadata": {
    "collapsed": true,
    "jupyter": {
     "outputs_hidden": true
    }
   },
   "outputs": [
    {
     "data": {
      "text/plain": [
       "0.9020726373835329"
      ]
     },
     "execution_count": 31,
     "metadata": {},
     "output_type": "execute_result"
    }
   ],
   "source": [
    "F(y_test,y_pred) #max_depth=10"
   ]
  },
  {
   "cell_type": "code",
   "execution_count": 52,
   "metadata": {
    "collapsed": true,
    "jupyter": {
     "outputs_hidden": true
    }
   },
   "outputs": [
    {
     "data": {
      "text/plain": [
       "0.9361307522893242"
      ]
     },
     "execution_count": 52,
     "metadata": {},
     "output_type": "execute_result"
    }
   ],
   "source": [
    "F(y_test,y_pred) #max_depth=17"
   ]
  },
  {
   "cell_type": "code",
   "execution_count": 49,
   "metadata": {},
   "outputs": [
    {
     "data": {
      "text/plain": [
       "0.9404844826251838"
      ]
     },
     "execution_count": 49,
     "metadata": {},
     "output_type": "execute_result"
    }
   ],
   "source": [
    "F(y_test,y_pred) #max_depth=18 colsample_bynode=0.8"
   ]
  },
  {
   "cell_type": "code",
   "execution_count": 46,
   "metadata": {
    "collapsed": true,
    "jupyter": {
     "outputs_hidden": true
    }
   },
   "outputs": [
    {
     "data": {
      "text/plain": [
       "0.9391876208897485"
      ]
     },
     "execution_count": 46,
     "metadata": {},
     "output_type": "execute_result"
    }
   ],
   "source": [
    "F(y_test,y_pred) #max_depth=19"
   ]
  },
  {
   "cell_type": "markdown",
   "metadata": {},
   "source": [
    "The optimal max_depth=18"
   ]
  },
  {
   "cell_type": "markdown",
   "metadata": {},
   "source": [
    "Testing colsample_bynode"
   ]
  },
  {
   "cell_type": "code",
   "execution_count": 61,
   "metadata": {
    "collapsed": true,
    "jupyter": {
     "outputs_hidden": true
    }
   },
   "outputs": [
    {
     "data": {
      "text/plain": [
       "0.9404844826251838"
      ]
     },
     "execution_count": 61,
     "metadata": {},
     "output_type": "execute_result"
    }
   ],
   "source": [
    "F(y_test,y_pred) #0.8"
   ]
  },
  {
   "cell_type": "code",
   "execution_count": 64,
   "metadata": {
    "collapsed": true,
    "jupyter": {
     "outputs_hidden": true
    }
   },
   "outputs": [
    {
     "data": {
      "text/plain": [
       "0.9367362722351121"
      ]
     },
     "execution_count": 64,
     "metadata": {},
     "output_type": "execute_result"
    }
   ],
   "source": [
    "F(y_test,y_pred) #0.7"
   ]
  },
  {
   "cell_type": "code",
   "execution_count": 67,
   "metadata": {
    "collapsed": true,
    "jupyter": {
     "outputs_hidden": true
    }
   },
   "outputs": [
    {
     "data": {
      "text/plain": [
       "0.9361339986847704"
      ]
     },
     "execution_count": 67,
     "metadata": {},
     "output_type": "execute_result"
    }
   ],
   "source": [
    "F(y_test,y_pred) #0.6"
   ]
  },
  {
   "cell_type": "code",
   "execution_count": 70,
   "metadata": {},
   "outputs": [
    {
     "data": {
      "text/plain": [
       "0.9408622958433315"
      ]
     },
     "execution_count": 70,
     "metadata": {},
     "output_type": "execute_result"
    }
   ],
   "source": [
    "F(y_test,y_pred) #max_depth=18 colsample_bynode=0.9 learning_rate=0.1"
   ]
  },
  {
   "cell_type": "code",
   "execution_count": 73,
   "metadata": {
    "collapsed": true,
    "jupyter": {
     "outputs_hidden": true
    }
   },
   "outputs": [
    {
     "data": {
      "text/plain": [
       "0.9386745031320084"
      ]
     },
     "execution_count": 73,
     "metadata": {},
     "output_type": "execute_result"
    }
   ],
   "source": [
    "F(y_test,y_pred) #1.0"
   ]
  },
  {
   "cell_type": "markdown",
   "metadata": {},
   "source": [
    "The optimal colsample_bynode=0.9"
   ]
  },
  {
   "cell_type": "markdown",
   "metadata": {},
   "source": [
    "Testing learning rate."
   ]
  },
  {
   "cell_type": "code",
   "execution_count": 80,
   "metadata": {
    "collapsed": true,
    "jupyter": {
     "outputs_hidden": true
    }
   },
   "outputs": [
    {
     "data": {
      "text/plain": [
       "0.9165804498601372"
      ]
     },
     "execution_count": 80,
     "metadata": {},
     "output_type": "execute_result"
    }
   ],
   "source": [
    "F(y_test,y_pred) #0.05"
   ]
  },
  {
   "cell_type": "code",
   "execution_count": 83,
   "metadata": {},
   "outputs": [
    {
     "data": {
      "text/plain": [
       "0.9550737071991264"
      ]
     },
     "execution_count": 83,
     "metadata": {},
     "output_type": "execute_result"
    }
   ],
   "source": [
    "F(y_test,y_pred) #max_depth=18 colsample_bynode=0.9 learning_rate=0.3 n_estimator=200"
   ]
  },
  {
   "cell_type": "markdown",
   "metadata": {},
   "source": [
    "The optimal learning_rate=0.3"
   ]
  },
  {
   "cell_type": "code",
   "execution_count": 86,
   "metadata": {
    "collapsed": true,
    "jupyter": {
     "outputs_hidden": true
    }
   },
   "outputs": [
    {
     "data": {
      "text/plain": [
       "0.945784069695084"
      ]
     },
     "execution_count": 86,
     "metadata": {},
     "output_type": "execute_result"
    }
   ],
   "source": [
    "F(y_test,y_pred) #n_estimator=100"
   ]
  },
  {
   "cell_type": "code",
   "execution_count": 89,
   "metadata": {
    "collapsed": true,
    "jupyter": {
     "outputs_hidden": true
    }
   },
   "outputs": [
    {
     "data": {
      "text/plain": [
       "0.9276595744680851"
      ]
     },
     "execution_count": 89,
     "metadata": {},
     "output_type": "execute_result"
    }
   ],
   "source": [
    "F(y_test,y_pred) #n_estimator=50"
   ]
  },
  {
   "cell_type": "code",
   "execution_count": 92,
   "metadata": {},
   "outputs": [
    {
     "data": {
      "text/plain": [
       "0.9586131500858972"
      ]
     },
     "execution_count": 92,
     "metadata": {},
     "output_type": "execute_result"
    }
   ],
   "source": [
    "F(y_test,y_pred) #n_estimator=300"
   ]
  },
  {
   "cell_type": "code",
   "execution_count": 95,
   "metadata": {
    "collapsed": true,
    "jupyter": {
     "outputs_hidden": true
    }
   },
   "outputs": [
    {
     "data": {
      "text/plain": [
       "0.9604188645332709"
      ]
     },
     "execution_count": 95,
     "metadata": {},
     "output_type": "execute_result"
    }
   ],
   "source": [
    "F(y_test,y_pred) #n_estimator=400"
   ]
  },
  {
   "cell_type": "code",
   "execution_count": 98,
   "metadata": {},
   "outputs": [
    {
     "data": {
      "text/plain": [
       "0.9612378868396374"
      ]
     },
     "execution_count": 98,
     "metadata": {},
     "output_type": "execute_result"
    }
   ],
   "source": [
    "F(y_test,y_pred) #max_depth=18 colsample_bynode=0.9 learning_rate=0.3 n_estimator=500 #gamma=0.001"
   ]
  },
  {
   "cell_type": "markdown",
   "metadata": {},
   "source": [
    "The optimal n_estimator=500"
   ]
  },
  {
   "cell_type": "code",
   "execution_count": 22,
   "metadata": {},
   "outputs": [
    {
     "data": {
      "text/plain": [
       "0.9632783811235253"
      ]
     },
     "execution_count": 22,
     "metadata": {},
     "output_type": "execute_result"
    }
   ],
   "source": [
    "F(y_test,y_pred) #max_depth=18 colsample_bynode=0.9 learning_rate=0.3 n_estimator=500 #gamma=0.01"
   ]
  },
  {
   "cell_type": "code",
   "execution_count": 104,
   "metadata": {
    "collapsed": true,
    "jupyter": {
     "outputs_hidden": true
    }
   },
   "outputs": [
    {
     "data": {
      "text/plain": [
       "0.9628241174632928"
      ]
     },
     "execution_count": 104,
     "metadata": {},
     "output_type": "execute_result"
    }
   ],
   "source": [
    "F(y_test,y_pred) #0.05"
   ]
  },
  {
   "cell_type": "code",
   "execution_count": 107,
   "metadata": {
    "collapsed": true,
    "jupyter": {
     "outputs_hidden": true
    }
   },
   "outputs": [
    {
     "data": {
      "text/plain": [
       "0.9628125"
      ]
     },
     "execution_count": 107,
     "metadata": {},
     "output_type": "execute_result"
    }
   ],
   "source": [
    "F(y_test,y_pred) #0.03"
   ]
  },
  {
   "cell_type": "markdown",
   "metadata": {},
   "source": [
    "The optimal gamma=0.01"
   ]
  },
  {
   "cell_type": "markdown",
   "metadata": {},
   "source": [
    "The optimal parameters are colsample_bynode=0.9, learning_rate=0.3, gamma=0.01, max_depth=18, n_estimators=500."
   ]
  },
  {
   "cell_type": "markdown",
   "metadata": {},
   "source": [
    "Now try the kaggle."
   ]
  },
  {
   "cell_type": "code",
   "execution_count": 114,
   "metadata": {},
   "outputs": [],
   "source": [
    "data_train = xgb.DMatrix(data=X_train_final,label= y_train_final)"
   ]
  },
  {
   "cell_type": "code",
   "execution_count": 119,
   "metadata": {},
   "outputs": [],
   "source": [
    "kuaidi_xgbt.fit(X_train_final,y_train_final)\n",
    "y_pred_final = kuaidi_xgbt.predict(X_test_final)"
   ]
  },
  {
   "cell_type": "code",
   "execution_count": 120,
   "metadata": {},
   "outputs": [],
   "source": [
    "df_classification = pd.read_csv(\"classification1.csv\",index_col = 0)\n",
    "df_classification[\"action_type_DELIVERY\"] = y_pred_final\n",
    "df_classification.to_csv(\"classification-xgboost.csv\")"
   ]
  },
  {
   "cell_type": "markdown",
   "metadata": {},
   "source": [
    "After modification, the f1-score in kaggle goes to 0.96582"
   ]
  },
  {
   "cell_type": "markdown",
   "metadata": {},
   "source": [
    "# (d)Further Feature Engineering"
   ]
  },
  {
   "cell_type": "code",
   "execution_count": 14,
   "metadata": {},
   "outputs": [
    {
     "data": {
      "image/png": "[encoded data removed]",
      "text/plain": [
       "<Figure size 432x288 with 1 Axes>"
      ]
     },
     "metadata": {
      "needs_background": "light"
     },
     "output_type": "display_data"
    }
   ],
   "source": [
    "from sklearn.cluster import KMeans\n",
    "def fitting(df):\n",
    "    Sum_of_squared_distances = []\n",
    "    K = range(1,21)\n",
    "    for k in K:\n",
    "        km = KMeans(n_clusters=k)\n",
    "        km = km.fit(df)\n",
    "        Sum_of_squared_distances.append(km.inertia_)\n",
    "        #inertia_ reports the within group sum of squared errors, which is W in this Jupyter.\n",
    "    plt.plot(K, Sum_of_squared_distances, 'bx-')\n",
    "    plt.xlabel('k')\n",
    "    plt.ylabel('Sum_of_squared_distances')\n",
    "    plt.title('Elbow Method For Optimal k')\n",
    "    plt.show()\n",
    "    return \n",
    "\n",
    "fitting(X_train[['source_lng','source_lat']])"
   ]
  },
  {
   "cell_type": "code",
   "execution_count": 46,
   "metadata": {},
   "outputs": [
    {
     "data": {
      "image/png": "[encoded data removed]",
      "text/plain": [
       "<Figure size 432x288 with 1 Axes>"
      ]
     },
     "metadata": {
      "needs_background": "light"
     },
     "output_type": "display_data"
    }
   ],
   "source": [
    "from sklearn.cluster import KMeans\n",
    "def fitting(df):\n",
    "    Sum_of_squared_distances = []\n",
    "    K = range(1,21)\n",
    "    for k in K:\n",
    "        km = KMeans(n_clusters=k)\n",
    "        km = km.fit(df)\n",
    "        Sum_of_squared_distances.append(km.inertia_)\n",
    "        #inertia_ reports the within group sum of squared errors, which is W in this Jupyter.\n",
    "    plt.plot(K, Sum_of_squared_distances, 'bx-')\n",
    "    plt.xlabel('k')\n",
    "    plt.ylabel('Sum_of_squared_distances')\n",
    "    plt.title('Elbow Method For Optimal k')\n",
    "    plt.show()\n",
    "    return \n",
    "\n",
    "fitting(X_train[['target_lng','target_lat']])"
   ]
  },
  {
   "cell_type": "code",
   "execution_count": 55,
   "metadata": {},
   "outputs": [
    {
     "name": "stdout",
     "output_type": "stream",
     "text": [
      "[4 4 4 ... 4 4 4]\n",
      "[1 1 1 ... 1 1 1]\n"
     ]
    }
   ],
   "source": [
    "kmeans1 = KMeans(n_clusters=5, random_state=666, max_iter=1000,init='k-means++').fit(X_train[['source_lng','source_lat']])\n",
    "print(kmeans1.labels_)\n",
    "\n",
    "kmeans2 = KMeans(n_clusters=5, random_state=666, max_iter=1000,init='k-means++').fit(X_train[['target_lng','target_lat']])\n",
    "print(kmeans2.labels_)"
   ]
  },
  {
   "cell_type": "code",
   "execution_count": 56,
   "metadata": {},
   "outputs": [
    {
     "name": "stdout",
     "output_type": "stream",
     "text": [
      "[4 4 4 ... 4 4 4]\n",
      "[1 1 1 ... 1 1 1]\n"
     ]
    }
   ],
   "source": [
    "kmeans3 = KMeans(n_clusters=5, random_state=666, max_iter=1000,init='k-means++').fit(X_test[['source_lng','source_lat']])\n",
    "print(kmeans1.labels_)\n",
    "\n",
    "kmeans4 = KMeans(n_clusters=5, random_state=666, max_iter=1000,init='k-means++').fit(X_test[['target_lng','target_lat']])\n",
    "print(kmeans2.labels_)"
   ]
  },
  {
   "cell_type": "code",
   "execution_count": 57,
   "metadata": {},
   "outputs": [],
   "source": [
    "e=pd.DataFrame(kmeans1.labels_)\n",
    "f=pd.DataFrame(kmeans2.labels_)\n",
    "g=pd.DataFrame(kmeans3.labels_)\n",
    "h=pd.DataFrame(kmeans4.labels_)"
   ]
  },
  {
   "cell_type": "code",
   "execution_count": 64,
   "metadata": {},
   "outputs": [],
   "source": [
    "X_train_FE=X_train.copy()\n",
    "X_test_FE=X_test.copy()\n",
    "X_train_FE['source_integrated'],X_train_FE['target_integrated']=e,f\n",
    "X_test_FE['source_integrated'],X_test_FE['target_integrated']=g,h"
   ]
  },
  {
   "cell_type": "markdown",
   "metadata": {},
   "source": [
    "Now fine if our in-sample f1-score is higher."
   ]
  },
  {
   "cell_type": "code",
   "execution_count": 68,
   "metadata": {},
   "outputs": [],
   "source": [
    "data_train = xgb.DMatrix(data=X_train,label= y_train)"
   ]
  },
  {
   "cell_type": "code",
   "execution_count": 125,
   "metadata": {},
   "outputs": [],
   "source": [
    "kuaidi_xgbt = xgb.XGBClassifier(objective ='binary:logistic', eval_metric='logloss',\n",
    "                                colsample_bynode=1.0,\n",
    "                                learning_rate = 0.3,\n",
    "                                gamma = 0.001,\n",
    "                                max_depth = 15,\n",
    "                                n_estimators = 500,\n",
    "                                use_label_encoder=False)"
   ]
  },
  {
   "cell_type": "code",
   "execution_count": 126,
   "metadata": {},
   "outputs": [],
   "source": [
    "kuaidi_xgbt.fit(X_train,y_train)\n",
    "y_pred = kuaidi_xgbt.predict(X_test)"
   ]
  },
  {
   "cell_type": "markdown",
   "metadata": {},
   "source": [
    "Now let's finetune."
   ]
  },
  {
   "cell_type": "markdown",
   "metadata": {},
   "source": [
    "Test max_depth first, bench mark is max_depth = 18.(range:10~20)"
   ]
  },
  {
   "cell_type": "code",
   "execution_count": 72,
   "metadata": {
    "collapsed": true,
    "jupyter": {
     "outputs_hidden": true
    }
   },
   "outputs": [
    {
     "data": {
      "text/plain": [
       "0.9606120935316391"
      ]
     },
     "execution_count": 72,
     "metadata": {},
     "output_type": "execute_result"
    }
   ],
   "source": [
    "F(y_test,y_pred) #0.9 0.3 0.01 18 500"
   ]
  },
  {
   "cell_type": "code",
   "execution_count": 75,
   "metadata": {
    "collapsed": true,
    "jupyter": {
     "outputs_hidden": true
    }
   },
   "outputs": [
    {
     "data": {
      "text/plain": [
       "0.9604908359060533"
      ]
     },
     "execution_count": 75,
     "metadata": {},
     "output_type": "execute_result"
    }
   ],
   "source": [
    "F(y_test,y_pred) #20"
   ]
  },
  {
   "cell_type": "code",
   "execution_count": 78,
   "metadata": {
    "collapsed": true,
    "jupyter": {
     "outputs_hidden": true
    }
   },
   "outputs": [
    {
     "data": {
      "text/plain": [
       "0.9577047518808717"
      ]
     },
     "execution_count": 78,
     "metadata": {},
     "output_type": "execute_result"
    }
   ],
   "source": [
    "F(y_test,y_pred)#10"
   ]
  },
  {
   "cell_type": "code",
   "execution_count": 82,
   "metadata": {
    "collapsed": true,
    "jupyter": {
     "outputs_hidden": true
    }
   },
   "outputs": [
    {
     "data": {
      "text/plain": [
       "0.9065499500883053"
      ]
     },
     "execution_count": 82,
     "metadata": {},
     "output_type": "execute_result"
    }
   ],
   "source": [
    "F(y_test,y_pred)#5"
   ]
  },
  {
   "cell_type": "code",
   "execution_count": 85,
   "metadata": {},
   "outputs": [
    {
     "data": {
      "text/plain": [
       "0.9630382915476982"
      ]
     },
     "execution_count": 85,
     "metadata": {},
     "output_type": "execute_result"
    }
   ],
   "source": [
    "F(y_test,y_pred)#max_depth = 15, n_estimators = 500. learning_rate = 0.3. colsample_bynode=0.9. gamma=0.01"
   ]
  },
  {
   "cell_type": "code",
   "execution_count": 88,
   "metadata": {
    "collapsed": true,
    "jupyter": {
     "outputs_hidden": true
    }
   },
   "outputs": [
    {
     "data": {
      "text/plain": [
       "0.9625580759770429"
      ]
     },
     "execution_count": 88,
     "metadata": {},
     "output_type": "execute_result"
    }
   ],
   "source": [
    "F(y_test,y_pred)#14"
   ]
  },
  {
   "cell_type": "code",
   "execution_count": 91,
   "metadata": {
    "collapsed": true,
    "jupyter": {
     "outputs_hidden": true
    }
   },
   "outputs": [
    {
     "data": {
      "text/plain": [
       "0.9624306803093025"
      ]
     },
     "execution_count": 91,
     "metadata": {},
     "output_type": "execute_result"
    }
   ],
   "source": [
    "F(y_test,y_pred)#16"
   ]
  },
  {
   "cell_type": "markdown",
   "metadata": {},
   "source": [
    "The optimal for max_depth is 15. Now let's test n_estimators(10~500)"
   ]
  },
  {
   "cell_type": "code",
   "execution_count": 94,
   "metadata": {
    "collapsed": true,
    "jupyter": {
     "outputs_hidden": true
    }
   },
   "outputs": [
    {
     "data": {
      "text/plain": [
       "0.9423965818605554"
      ]
     },
     "execution_count": 94,
     "metadata": {},
     "output_type": "execute_result"
    }
   ],
   "source": [
    "F(y_test,y_pred) #100"
   ]
  },
  {
   "cell_type": "code",
   "execution_count": 100,
   "metadata": {
    "collapsed": true,
    "jupyter": {
     "outputs_hidden": true
    }
   },
   "outputs": [
    {
     "data": {
      "text/plain": [
       "0.9001072468208978"
      ]
     },
     "execution_count": 100,
     "metadata": {},
     "output_type": "execute_result"
    }
   ],
   "source": [
    "F(y_test,y_pred) #30"
   ]
  },
  {
   "cell_type": "code",
   "execution_count": 97,
   "metadata": {
    "collapsed": true,
    "jupyter": {
     "outputs_hidden": true
    }
   },
   "outputs": [
    {
     "data": {
      "text/plain": [
       "0.9239987629503634"
      ]
     },
     "execution_count": 97,
     "metadata": {},
     "output_type": "execute_result"
    }
   ],
   "source": [
    "F(y_test,y_pred) #50"
   ]
  },
  {
   "cell_type": "code",
   "execution_count": 103,
   "metadata": {
    "collapsed": true,
    "jupyter": {
     "outputs_hidden": true
    }
   },
   "outputs": [
    {
     "data": {
      "text/plain": [
       "0.9594969339530524"
      ]
     },
     "execution_count": 103,
     "metadata": {},
     "output_type": "execute_result"
    }
   ],
   "source": [
    "F(y_test,y_pred) #300"
   ]
  },
  {
   "cell_type": "code",
   "execution_count": 106,
   "metadata": {
    "collapsed": true,
    "jupyter": {
     "outputs_hidden": true
    }
   },
   "outputs": [
    {
     "data": {
      "text/plain": [
       "0.9619985925404645"
      ]
     },
     "execution_count": 106,
     "metadata": {},
     "output_type": "execute_result"
    }
   ],
   "source": [
    "F(y_test,y_pred) #400"
   ]
  },
  {
   "cell_type": "markdown",
   "metadata": {},
   "source": [
    "The optimal n_estimator= 500, let's test learning rate now."
   ]
  },
  {
   "cell_type": "code",
   "execution_count": 109,
   "metadata": {
    "collapsed": true,
    "jupyter": {
     "outputs_hidden": true
    }
   },
   "outputs": [
    {
     "data": {
      "text/plain": [
       "0.9538617017141524"
      ]
     },
     "execution_count": 109,
     "metadata": {},
     "output_type": "execute_result"
    }
   ],
   "source": [
    "F(y_test,y_pred)#0.1"
   ]
  },
  {
   "cell_type": "code",
   "execution_count": 112,
   "metadata": {
    "collapsed": true,
    "jupyter": {
     "outputs_hidden": true
    }
   },
   "outputs": [
    {
     "data": {
      "text/plain": [
       "0.9406854978940453"
      ]
     },
     "execution_count": 112,
     "metadata": {},
     "output_type": "execute_result"
    }
   ],
   "source": [
    "F(y_test,y_pred)#0.05"
   ]
  },
  {
   "cell_type": "markdown",
   "metadata": {},
   "source": [
    "The local optimal learning_rate is 0.3. Now let's test colsample_bynode."
   ]
  },
  {
   "cell_type": "code",
   "execution_count": 115,
   "metadata": {
    "collapsed": true,
    "jupyter": {
     "outputs_hidden": true
    }
   },
   "outputs": [
    {
     "data": {
      "text/plain": [
       "0.9609091264107471"
      ]
     },
     "execution_count": 115,
     "metadata": {},
     "output_type": "execute_result"
    }
   ],
   "source": [
    "F(y_test,y_pred)#0.8"
   ]
  },
  {
   "cell_type": "code",
   "execution_count": 118,
   "metadata": {
    "collapsed": true,
    "jupyter": {
     "outputs_hidden": true
    }
   },
   "outputs": [
    {
     "data": {
      "text/plain": [
       "0.9597721331304382"
      ]
     },
     "execution_count": 118,
     "metadata": {},
     "output_type": "execute_result"
    }
   ],
   "source": [
    "F(y_test,y_pred)#0.7"
   ]
  },
  {
   "cell_type": "code",
   "execution_count": 121,
   "metadata": {},
   "outputs": [
    {
     "data": {
      "text/plain": [
       "0.965767878077374"
      ]
     },
     "execution_count": 121,
     "metadata": {},
     "output_type": "execute_result"
    }
   ],
   "source": [
    "F(y_test,y_pred)#max_depth = 15, n_estimators = 500. learning_rate = 0.3. colsample_bynode=1.0. gamma=0.01"
   ]
  },
  {
   "cell_type": "markdown",
   "metadata": {},
   "source": [
    "The local optimal colsample_bynode is 1.0. Now let's test optimal gamma."
   ]
  },
  {
   "cell_type": "code",
   "execution_count": 124,
   "metadata": {
    "collapsed": true,
    "jupyter": {
     "outputs_hidden": true
    }
   },
   "outputs": [
    {
     "data": {
      "text/plain": [
       "0.965"
      ]
     },
     "execution_count": 124,
     "metadata": {},
     "output_type": "execute_result"
    }
   ],
   "source": [
    "F(y_test,y_pred)#0.1"
   ]
  },
  {
   "cell_type": "code",
   "execution_count": 127,
   "metadata": {
    "collapsed": true,
    "jupyter": {
     "outputs_hidden": true
    }
   },
   "outputs": [
    {
     "data": {
      "text/plain": [
       "0.964655340753759"
      ]
     },
     "execution_count": 127,
     "metadata": {},
     "output_type": "execute_result"
    }
   ],
   "source": [
    "F(y_test,y_pred)#0.001"
   ]
  },
  {
   "cell_type": "markdown",
   "metadata": {},
   "source": [
    "The local optimal gamma is 0.01."
   ]
  },
  {
   "cell_type": "markdown",
   "metadata": {},
   "source": [
    "The highest in-sample F1-score is 0.96576, which increase 0.0025 comparing to in-sample F1-score without clustering."
   ]
  },
  {
   "cell_type": "markdown",
   "metadata": {},
   "source": [
    "So the optimal parameters are respectively: max_depth = 15, n_estimators = 500. learning_rate = 0.3. colsample_bynode=1.0. gamma=0.01"
   ]
  },
  {
   "cell_type": "markdown",
   "metadata": {},
   "source": [
    "Now let's test the out-of-sample data."
   ]
  },
  {
   "cell_type": "code",
   "execution_count": 15,
   "metadata": {},
   "outputs": [
    {
     "name": "stdout",
     "output_type": "stream",
     "text": [
      "[4 4 4 ... 0 0 0]\n",
      "[3 3 3 ... 4 4 4]\n"
     ]
    }
   ],
   "source": [
    "from sklearn.cluster import KMeans\n",
    "kmeans5 = KMeans(n_clusters=5, random_state=666, max_iter=1000,init='k-means++').fit(X_train_final[['source_lng','source_lat']])\n",
    "print(kmeans5.labels_)\n",
    "\n",
    "kmeans6 = KMeans(n_clusters=5, random_state=666, max_iter=1000,init='k-means++').fit(X_train_final[['target_lng','target_lat']])\n",
    "print(kmeans6.labels_)"
   ]
  },
  {
   "cell_type": "code",
   "execution_count": 16,
   "metadata": {},
   "outputs": [
    {
     "name": "stdout",
     "output_type": "stream",
     "text": [
      "[0 0 0 ... 2 2 2]\n",
      "[2 2 2 ... 3 3 3]\n"
     ]
    }
   ],
   "source": [
    "kmeans7 = KMeans(n_clusters=5, random_state=666, max_iter=1000,init='k-means++').fit(X_test_final[['source_lng','source_lat']])\n",
    "print(kmeans7.labels_)\n",
    "\n",
    "kmeans8 = KMeans(n_clusters=5, random_state=666, max_iter=1000,init='k-means++').fit(X_test_final[['target_lng','target_lat']])\n",
    "print(kmeans8.labels_)"
   ]
  },
  {
   "cell_type": "code",
   "execution_count": 17,
   "metadata": {},
   "outputs": [],
   "source": [
    "i=pd.DataFrame(kmeans5.labels_)\n",
    "j=pd.DataFrame(kmeans6.labels_)\n",
    "k=pd.DataFrame(kmeans7.labels_)\n",
    "l=pd.DataFrame(kmeans8.labels_)"
   ]
  },
  {
   "cell_type": "code",
   "execution_count": 18,
   "metadata": {},
   "outputs": [],
   "source": [
    "X_train_final_FE=X_train_final.copy()\n",
    "X_test_final_FE=X_test_final.copy()\n",
    "X_train_final_FE['source_integrated'],X_train_final_FE['target_integrated']=i,j\n",
    "X_test_final_FE['source_integrated'],X_test_final_FE['target_integrated']=k,l"
   ]
  },
  {
   "cell_type": "code",
   "execution_count": 19,
   "metadata": {},
   "outputs": [],
   "source": [
    "data_train = xgb.DMatrix(data=X_train_final_FE,label= y_train_final)"
   ]
  },
  {
   "cell_type": "code",
   "execution_count": 20,
   "metadata": {},
   "outputs": [],
   "source": [
    "kuaidi_xgbt = xgb.XGBClassifier(objective ='binary:logistic', eval_metric='logloss',\n",
    "                                colsample_bynode=1.0,\n",
    "                                learning_rate = 0.3,\n",
    "                                gamma = 0.01,\n",
    "                                max_depth = 15,\n",
    "                                n_estimators = 500,\n",
    "                                use_label_encoder=False)"
   ]
  },
  {
   "cell_type": "code",
   "execution_count": 22,
   "metadata": {},
   "outputs": [],
   "source": [
    "kuaidi_xgbt.fit(X_train_final_FE,y_train_final)\n",
    "y_pred_final_FE = kuaidi_xgbt.predict(X_test_final_FE)"
   ]
  },
  {
   "cell_type": "code",
   "execution_count": 138,
   "metadata": {},
   "outputs": [],
   "source": [
    "df_classification = pd.read_csv(\"classification1.csv\",index_col = 0)\n",
    "df_classification[\"action_type_DELIVERY\"] = y_pred_final_FE\n",
    "df_classification.to_csv(\"classification-xgboost-FE.csv\")"
   ]
  },
  {
   "cell_type": "markdown",
   "metadata": {},
   "source": [
    "The out-of-sample F1-score in Kaggle is 0.9652, which is 0.00062 lower than out of sample F1-score (without clustering)."
   ]
  },
  {
   "cell_type": "markdown",
   "metadata": {},
   "source": [
    "# (e)Model interpretation"
   ]
  },
  {
   "cell_type": "code",
   "execution_count": 24,
   "metadata": {},
   "outputs": [
    {
     "data": {
      "text/html": [
       "<div>\n",
       "<style scoped>\n",
       "    .dataframe tbody tr th:only-of-type {\n",
       "        vertical-align: middle;\n",
       "    }\n",
       "\n",
       "    .dataframe tbody tr th {\n",
       "        vertical-align: top;\n",
       "    }\n",
       "\n",
       "    .dataframe thead th {\n",
       "        text-align: right;\n",
       "    }\n",
       "</style>\n",
       "<table border=\"1\" class=\"dataframe\">\n",
       "  <thead>\n",
       "    <tr style=\"text-align: right;\">\n",
       "      <th></th>\n",
       "      <th>features</th>\n",
       "      <th>importance</th>\n",
       "    </tr>\n",
       "  </thead>\n",
       "  <tbody>\n",
       "    <tr>\n",
       "      <th>0</th>\n",
       "      <td>source_type_ASSIGN</td>\n",
       "      <td>6668.531866</td>\n",
       "    </tr>\n",
       "    <tr>\n",
       "      <th>2</th>\n",
       "      <td>source_type_DELIVERY</td>\n",
       "      <td>637.634091</td>\n",
       "    </tr>\n",
       "    <tr>\n",
       "      <th>1</th>\n",
       "      <td>grid_distance</td>\n",
       "      <td>9.972416</td>\n",
       "    </tr>\n",
       "    <tr>\n",
       "      <th>3</th>\n",
       "      <td>target_lat</td>\n",
       "      <td>5.954661</td>\n",
       "    </tr>\n",
       "    <tr>\n",
       "      <th>6</th>\n",
       "      <td>target_lng</td>\n",
       "      <td>5.828138</td>\n",
       "    </tr>\n",
       "    <tr>\n",
       "      <th>9</th>\n",
       "      <td>target_integrated</td>\n",
       "      <td>3.663543</td>\n",
       "    </tr>\n",
       "    <tr>\n",
       "      <th>4</th>\n",
       "      <td>urgency</td>\n",
       "      <td>2.335235</td>\n",
       "    </tr>\n",
       "    <tr>\n",
       "      <th>8</th>\n",
       "      <td>source_integrated</td>\n",
       "      <td>2.144315</td>\n",
       "    </tr>\n",
       "    <tr>\n",
       "      <th>7</th>\n",
       "      <td>source_lng</td>\n",
       "      <td>2.001847</td>\n",
       "    </tr>\n",
       "    <tr>\n",
       "      <th>5</th>\n",
       "      <td>source_lat</td>\n",
       "      <td>1.977068</td>\n",
       "    </tr>\n",
       "    <tr>\n",
       "      <th>10</th>\n",
       "      <td>source_type_PICKUP</td>\n",
       "      <td>1.470371</td>\n",
       "    </tr>\n",
       "  </tbody>\n",
       "</table>\n",
       "</div>"
      ],
      "text/plain": [
       "                features   importance\n",
       "0     source_type_ASSIGN  6668.531866\n",
       "2   source_type_DELIVERY   637.634091\n",
       "1          grid_distance     9.972416\n",
       "3             target_lat     5.954661\n",
       "6             target_lng     5.828138\n",
       "9      target_integrated     3.663543\n",
       "4                urgency     2.335235\n",
       "8      source_integrated     2.144315\n",
       "7             source_lng     2.001847\n",
       "5             source_lat     1.977068\n",
       "10    source_type_PICKUP     1.470371"
      ]
     },
     "execution_count": 24,
     "metadata": {},
     "output_type": "execute_result"
    }
   ],
   "source": [
    "importance=pd.DataFrame(list(kuaidi_xgbt.get_booster().get_score(importance_type='gain').items()),columns=['features','importance']).sort_values(by='importance',ascending=False)\n",
    "importance"
   ]
  },
  {
   "cell_type": "markdown",
   "metadata": {},
   "source": [
    "According to the importance, the most relevant feature in predicting the type of action are 'source_type'."
   ]
  },
  {
   "cell_type": "code",
   "execution_count": null,
   "metadata": {},
   "outputs": [],
   "source": []
  }
 ],
 "metadata": {
  "kernelspec": {
   "display_name": "Python 3",
   "language": "python",
   "name": "python3"
  },
  "language_info": {
   "codemirror_mode": {
    "name": "ipython",
    "version": 3
   },
   "file_extension": ".py",
   "mimetype": "text/x-python",
   "name": "python",
   "nbconvert_exporter": "python",
   "pygments_lexer": "ipython3",
   "version": "3.8.5"
  }
 },
 "nbformat": 4,
 "nbformat_minor": 4
}
